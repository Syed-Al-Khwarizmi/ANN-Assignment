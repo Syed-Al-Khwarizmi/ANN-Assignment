{
  "nbformat": 4,
  "nbformat_minor": 0,
  "metadata": {
    "colab": {
      "name": "ANN_Code.ipynb",
      "version": "0.3.2",
      "provenance": [],
      "include_colab_link": true
    },
    "kernelspec": {
      "name": "python3",
      "display_name": "Python 3"
    },
    "accelerator": "GPU"
  },
  "cells": [
    {
      "cell_type": "markdown",
      "metadata": {
        "id": "view-in-github",
        "colab_type": "text"
      },
      "source": [
        "<a href=\"https://colab.research.google.com/github/Syed-Al-Khwarizmi/ANN-Assignment/blob/master/ANN_Code.ipynb\" target=\"_parent\"><img src=\"https://colab.research.google.com/assets/colab-badge.svg\" alt=\"Open In Colab\"/></a>"
      ]
    },
    {
      "metadata": {
        "id": "p3dhxUi3CLKM",
        "colab_type": "code",
        "colab": {}
      },
      "cell_type": "code",
      "source": [
        "from keras.datasets import fashion_mnist\n",
        "\n",
        "(X_train, y_train), (X_test, y_test) = fashion_mnist.load_data()"
      ],
      "execution_count": 0,
      "outputs": []
    },
    {
      "metadata": {
        "id": "_XKwo28uHOPp",
        "colab_type": "code",
        "colab": {}
      },
      "cell_type": "code",
      "source": [
        ""
      ],
      "execution_count": 0,
      "outputs": []
    },
    {
      "metadata": {
        "id": "8DinOvS1t9H8",
        "colab_type": "code",
        "colab": {}
      },
      "cell_type": "code",
      "source": [
        "labels = {0\t: 'T-shirt/top',\n",
        "          1\t: 'Trouser',\n",
        "          2\t: 'Pullover',\n",
        "          3\t: 'Dress',\n",
        "          4\t: 'Coat',\n",
        "          5\t: 'Sandal',\n",
        "          6\t: 'Shirt',\n",
        "          7\t: 'Sneaker',\n",
        "          8\t: 'Bag',\n",
        "          9\t: 'Ankle boot'}"
      ],
      "execution_count": 0,
      "outputs": []
    },
    {
      "metadata": {
        "id": "sWWJ-vGTvRBz",
        "colab_type": "code",
        "outputId": "25d3ff89-29d5-4e6b-fd01-6dbc290111e3",
        "colab": {
          "base_uri": "https://localhost:8080/",
          "height": 435
        }
      },
      "cell_type": "code",
      "source": [
        "import matplotlib.pyplot as plt\n",
        "%matplotlib inline\n",
        "\n",
        "\n",
        "plt.figure(figsize = (15,7))\n",
        "for i in range(10):\n",
        "  plt.subplot(2,5,i+1)\n",
        "  plt.imshow(X_train[i])\n",
        "  plt.title(labels[y_train[i]])\n",
        "  plt.axis('off')\n",
        "\n",
        "plt.show()"
      ],
      "execution_count": 0,
      "outputs": [
        {
          "output_type": "display_data",
          "data": {
            "image/png": "[encoded data removed]",
            "text/plain": [
              "<matplotlib.figure.Figure at 0x7f04484915f8>"
            ]
          },
          "metadata": {
            "tags": []
          }
        }
      ]
    },
    {
      "metadata": {
        "id": "Yohar1Z8TzpV",
        "colab_type": "code",
        "outputId": "f2007e57-c41d-400a-f118-814099f795a4",
        "colab": {
          "base_uri": "https://localhost:8080/",
          "height": 90
        }
      },
      "cell_type": "code",
      "source": [
        "print(\"X_train: \", X_train.shape)\n",
        "print(\"X_test: \", X_test.shape)\n",
        "print(\"y_train: \", y_train.shape)\n",
        "print(\"y_test: \", y_test.shape)"
      ],
      "execution_count": 0,
      "outputs": [
        {
          "output_type": "stream",
          "text": [
            "X_train:  (60000, 28, 28)\n",
            "X_test:  (10000, 28, 28)\n",
            "y_train:  (60000,)\n",
            "y_test:  (10000,)\n"
          ],
          "name": "stdout"
        }
      ]
    },
    {
      "metadata": {
        "id": "AKfSXh77PwzS",
        "colab_type": "code",
        "colab": {}
      },
      "cell_type": "code",
      "source": [
        "from keras.utils import to_categorical\n",
        "\n",
        "X_train_flatten = X_train.reshape((X_train.shape[0], X_train.shape[1] * X_train.shape[2]))\n",
        "X_test_flatten = X_test.reshape((X_test.shape[0], X_test.shape[1] * X_test.shape[2]))\n",
        "\n",
        "X_train_normalized = X_train_flatten/255\n",
        "X_test_normalized = X_test_flatten/255\n",
        "\n",
        "y_train_encoded = to_categorical(y_train, num_classes = 10)\n",
        "y_test_encoded = to_categorical(y_test, num_classes = 10)"
      ],
      "execution_count": 0,
      "outputs": []
    },
    {
      "metadata": {
        "id": "d9IcJ059Un2J",
        "colab_type": "code",
        "outputId": "e13ccbac-f447-4688-dba0-4853e3242715",
        "colab": {
          "base_uri": "https://localhost:8080/",
          "height": 90
        }
      },
      "cell_type": "code",
      "source": [
        "print(\"X_train: \", X_train_normalized.shape)\n",
        "print(\"X_test: \", X_test_normalized.shape)\n",
        "print(\"y_train: \", y_train_encoded.shape)\n",
        "print(\"y_test: \", y_test_encoded.shape)"
      ],
      "execution_count": 0,
      "outputs": [
        {
          "output_type": "stream",
          "text": [
            "X_train:  (60000, 784)\n",
            "X_test:  (10000, 784)\n",
            "y_train:  (60000, 10)\n",
            "y_test:  (10000, 10)\n"
          ],
          "name": "stdout"
        }
      ]
    },
    {
      "metadata": {
        "id": "6EVrJm0CU3Dc",
        "colab_type": "code",
        "colab": {}
      },
      "cell_type": "code",
      "source": [
        "from keras.layers import Dense, Dropout\n",
        "from keras.models import Sequential\n",
        "\n",
        "num_classes = 10\n",
        "\n",
        "model = Sequential()\n",
        "model.add(Dense(512, input_shape=(X_train_normalized.shape[1],)))\n",
        "model.add(Dense(256, activation = 'tanh'))\n",
        "model.add(Dense(128, activation = 'tanh'))\n",
        "model.add(Dense(64, activation = 'tanh'))\n",
        "model.add(Dense(num_classes, activation = 'softmax'))\n",
        "\n",
        "model.compile(loss = 'categorical_crossentropy', optimizer = 'Adadelta', metrics = ['accuracy'])"
      ],
      "execution_count": 0,
      "outputs": []
    },
    {
      "metadata": {
        "id": "Wt9MsCtYV1JG",
        "colab_type": "code",
        "outputId": "01e7c458-f858-4424-aafe-261311361bf9",
        "colab": {
          "base_uri": "https://localhost:8080/",
          "height": 417
        }
      },
      "cell_type": "code",
      "source": [
        "model.fit(X_train_normalized, y_train_encoded, \n",
        "          epochs = 10, \n",
        "          validation_split = 0.1, \n",
        "          batch_size = 100)"
      ],
      "execution_count": 0,
      "outputs": [
        {
          "output_type": "stream",
          "text": [
            "Train on 54000 samples, validate on 6000 samples\n",
            "Epoch 1/10\n",
            "54000/54000 [==============================] - 5s 95us/step - loss: 0.5711 - acc: 0.7908 - val_loss: 0.4552 - val_acc: 0.8212\n",
            "Epoch 2/10\n",
            "54000/54000 [==============================] - 5s 91us/step - loss: 0.4105 - acc: 0.8485 - val_loss: 0.4041 - val_acc: 0.8487\n",
            "Epoch 3/10\n",
            "54000/54000 [==============================] - 5s 91us/step - loss: 0.3657 - acc: 0.8632 - val_loss: 0.3514 - val_acc: 0.8693\n",
            "Epoch 4/10\n",
            "54000/54000 [==============================] - 5s 91us/step - loss: 0.3370 - acc: 0.8754 - val_loss: 0.3767 - val_acc: 0.8553\n",
            "Epoch 5/10\n",
            "54000/54000 [==============================] - 5s 92us/step - loss: 0.3146 - acc: 0.8823 - val_loss: 0.3429 - val_acc: 0.8723\n",
            "Epoch 6/10\n",
            "54000/54000 [==============================] - 5s 92us/step - loss: 0.3017 - acc: 0.8866 - val_loss: 0.3682 - val_acc: 0.8660\n",
            "Epoch 7/10\n",
            "54000/54000 [==============================] - 5s 91us/step - loss: 0.2864 - acc: 0.8934 - val_loss: 0.3294 - val_acc: 0.8770\n",
            "Epoch 8/10\n",
            "54000/54000 [==============================] - 5s 91us/step - loss: 0.2763 - acc: 0.8963 - val_loss: 0.3224 - val_acc: 0.8818\n",
            "Epoch 9/10\n",
            "54000/54000 [==============================] - 5s 90us/step - loss: 0.2628 - acc: 0.9012 - val_loss: 0.3151 - val_acc: 0.8850\n",
            "Epoch 10/10\n",
            "54000/54000 [==============================] - 5s 90us/step - loss: 0.2562 - acc: 0.9044 - val_loss: 0.3293 - val_acc: 0.8842\n"
          ],
          "name": "stdout"
        },
        {
          "output_type": "execute_result",
          "data": {
            "text/plain": [
              "<keras.callbacks.History at 0x7f04748c57f0>"
            ]
          },
          "metadata": {
            "tags": []
          },
          "execution_count": 39
        }
      ]
    },
    {
      "metadata": {
        "id": "HuaXfgw6WUmd",
        "colab_type": "code",
        "outputId": "c93b3937-904f-4fbf-f756-2a65fa78450d",
        "colab": {
          "base_uri": "https://localhost:8080/",
          "height": 54
        }
      },
      "cell_type": "code",
      "source": [
        "model.evaluate(X_test_normalized, y_test_encoded)"
      ],
      "execution_count": 0,
      "outputs": [
        {
          "output_type": "stream",
          "text": [
            "10000/10000 [==============================] - 1s 69us/step\n"
          ],
          "name": "stdout"
        },
        {
          "output_type": "execute_result",
          "data": {
            "text/plain": [
              "[0.34983162972927095, 0.8748]"
            ]
          },
          "metadata": {
            "tags": []
          },
          "execution_count": 40
        }
      ]
    },
    {
      "metadata": {
        "id": "ceYlZa5JfD8w",
        "colab_type": "code",
        "outputId": "19053ae6-fb49-4278-ae46-f8f44f68952e",
        "colab": {
          "base_uri": "https://localhost:8080/",
          "height": 415
        }
      },
      "cell_type": "code",
      "source": [
        "import numpy as np\n",
        "\n",
        "plt.figure(figsize = (15,7))\n",
        "for i in range(10):\n",
        "  \n",
        "  scores = model.predict(np.expand_dims(X_test_normalized[i], axis = 0))\n",
        "  \n",
        "  plt.subplot(2,5,i+1)\n",
        "  plt.imshow(X_test[i])\n",
        "  plt.title(labels[np.argmax(scores)])\n",
        "  plt.axis('off')  \n",
        "  "
      ],
      "execution_count": 0,
      "outputs": [
        {
          "output_type": "display_data",
          "data": {
            "image/png": "[encoded data removed]",
            "text/plain": [
              "<matplotlib.figure.Figure at 0x7f046a1adba8>"
            ]
          },
          "metadata": {
            "tags": []
          }
        }
      ]
    },
    {
      "metadata": {
        "id": "Su_tcwlv0paH",
        "colab_type": "code",
        "colab": {}
      },
      "cell_type": "code",
      "source": [
        ""
      ],
      "execution_count": 0,
      "outputs": []
    },
    {
      "metadata": {
        "id": "9278qV6tVJ1E",
        "colab_type": "code",
        "colab": {}
      },
      "cell_type": "code",
      "source": [
        ""
      ],
      "execution_count": 0,
      "outputs": []
    }
  ]
}